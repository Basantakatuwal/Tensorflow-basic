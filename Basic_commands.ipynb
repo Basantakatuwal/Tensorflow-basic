{
  "nbformat": 4,
  "nbformat_minor": 0,
  "metadata": {
    "colab": {
      "name": "Basic commands.ipynb",
      "version": "0.3.2",
      "provenance": [],
      "collapsed_sections": [],
      "include_colab_link": true
    },
    "kernelspec": {
      "name": "python3",
      "display_name": "Python 3"
    },
    "accelerator": "GPU"
  },
  "cells": [
    {
      "cell_type": "markdown",
      "metadata": {
        "id": "view-in-github",
        "colab_type": "text"
      },
      "source": [
        "<a href=\"https://colab.research.google.com/github/Basantakatuwal/Tensorflow-basic/blob/master/Basic_commands.ipynb\" target=\"_parent\"><img src=\"https://colab.research.google.com/assets/colab-badge.svg\" alt=\"Open In Colab\"/></a>"
      ]
    },
    {
      "cell_type": "code",
      "metadata": {
        "id": "nmS1EccRLxJc",
        "colab_type": "code",
        "colab": {}
      },
      "source": [
        "import numpy as np \n",
        "import tensorflow as tf\n"
      ],
      "execution_count": 0,
      "outputs": []
    },
    {
      "cell_type": "code",
      "metadata": {
        "id": "aXU2M-fpcjyi",
        "colab_type": "code",
        "outputId": "2b77d73a-a38f-4014-a6c2-b17ac7f834d9",
        "colab": {
          "base_uri": "https://localhost:8080/",
          "height": 34
        }
      },
      "source": [
        "a= tf.constant(3)\n",
        "b= tf.constant(5)\n",
        "c= a+b\n",
        "with tf.Session() as sess:\n",
        "  var1= sess.run(c)\n",
        "  print(var1)\n"
      ],
      "execution_count": 0,
      "outputs": [
        {
          "output_type": "stream",
          "text": [
            "8\n"
          ],
          "name": "stdout"
        }
      ]
    },
    {
      "cell_type": "code",
      "metadata": {
        "id": "Xkfh-4Qsdntz",
        "colab_type": "code",
        "outputId": "3b185281-b7eb-4f5e-fd9d-4004fe83179f",
        "colab": {
          "base_uri": "https://localhost:8080/",
          "height": 34
        }
      },
      "source": [
        ""
      ],
      "execution_count": 0,
      "outputs": [
        {
          "output_type": "stream",
          "text": [
            "8\n"
          ],
          "name": "stdout"
        }
      ]
    },
    {
      "cell_type": "code",
      "metadata": {
        "id": "2lHwCzNgxvPR",
        "colab_type": "code",
        "outputId": "6bd18db4-3ea8-4e4d-a18e-e4444459a098",
        "colab": {
          "base_uri": "https://localhost:8080/",
          "height": 84
        }
      },
      "source": [
        "a= tf.Variable(0,name='input')\n",
        "b= tf.constant(1)\n",
        "\n",
        "mid_value= tf.add(a,b)\n",
        "update_value= tf.assign(a,mid_value)\n",
        "\n",
        "tg= tf.global_variables_initializer()\n",
        "\n",
        "with tf.Session() as sess:\n",
        "  sess.run(tg)\n",
        "  print(sess.run(a))\n",
        "  \n",
        "  for i in range (3):\n",
        "    sess.run(update_value)\n",
        "    print(sess.run(a))"
      ],
      "execution_count": 0,
      "outputs": [
        {
          "output_type": "stream",
          "text": [
            "0\n",
            "1\n",
            "2\n",
            "3\n"
          ],
          "name": "stdout"
        }
      ]
    },
    {
      "cell_type": "code",
      "metadata": {
        "id": "wBx4pNgBSzM6",
        "colab_type": "code",
        "outputId": "c68a25a9-8507-42cc-c68a-6aca6f43eb16",
        "colab": {
          "base_uri": "https://localhost:8080/",
          "height": 50
        }
      },
      "source": [
        "x=tf.placeholder(\"float32\",[None,5])\n",
        "y=x**2\n",
        "with tf.Session() as sess:\n",
        "  result=sess.run(y,feed_dict={x:[[1,2,3,4,5],[5,6,7,8,9]]})\n",
        "  print(result)"
      ],
      "execution_count": 0,
      "outputs": [
        {
          "output_type": "stream",
          "text": [
            "[[ 1.  4.  9. 16. 25.]\n",
            " [25. 36. 49. 64. 81.]]\n"
          ],
          "name": "stdout"
        }
      ]
    }
  ]
}