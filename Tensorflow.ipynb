import numpy as np 
import tensorflow as tf
a= tf.constant(3)
b= tf.constant(5)
c= a+b
with tf.Session() as sess:
  var1= sess.run(c)
  print(var1)
