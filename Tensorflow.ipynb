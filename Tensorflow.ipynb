import numpy as np 
import tensorflow as tf
a= tf.constant(3)
b= tf.constant(5)
c= a+b
with tf.Session() as sess:
  var1= sess.run(c)
  print(var1)
a= tf.Variable(0,name='input')
b= tf.constant(1)

mid_value= tf.add(a,b)
update_value= tf.assign(a,mid_value)

tg= tf.global_variables_initializer()

with tf.Session() as sess:
  sess.run(tg)
  print(sess.run(a))
  
  for i in range (3):
    sess.run(update_value)
    print(sess.run(a))
